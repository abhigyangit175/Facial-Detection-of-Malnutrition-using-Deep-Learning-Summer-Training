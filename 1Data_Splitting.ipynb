{
 "cells": [
  {
   "cell_type": "markdown",
   "id": "2dfac151-de90-4966-a3f6-70412dd140e8",
   "metadata": {},
   "source": [
    "# **Dataset Splitting**\n",
    "\n",
    "The dataset is divided into **80% training and 20% testing sets** to ensure proper evaluation.  \n",
    "- **Training set** is used for model learning.  \n",
    "- **Validation set** is used to tune hyperparameters and monitor performance during training.  \n",
    "- **Test set** provides an unbiased evaluation of the final model's accuracy.\n"
   ]
  },
  {
   "cell_type": "code",
   "execution_count": 1,
   "id": "11c5326a-f054-42aa-9005-186057b373d2",
   "metadata": {
    "tags": []
   },
   "outputs": [
    {
     "name": "stdout",
     "output_type": "stream",
     "text": [
      "✅ Dataset split into train/val/test successfully (70-15-15)!\n"
     ]
    }
   ],
   "source": [
    "import os\n",
    "import shutil\n",
    "import random\n",
    "\n",
    "# Paths\n",
    "raw_dir = \"dataset\"\n",
    "output_dir = \"resnet_dataset\"  \n",
    "\n",
    "# Split ratios (updated for maximum accuracy)\n",
    "train_ratio = 0.7\n",
    "val_ratio = 0.15\n",
    "test_ratio = 0.15\n",
    "\n",
    "classes = [\"healthy child face\", \"malnourished child face\"]\n",
    "\n",
    "for split in [\"train\", \"val\", \"test\"]:\n",
    "    for cls in classes:\n",
    "        os.makedirs(os.path.join(output_dir, split, cls), exist_ok=True)\n",
    "\n",
    "\n",
    "for cls in classes:\n",
    "    src_folder = os.path.join(raw_dir, cls)\n",
    "    images = [f for f in os.listdir(src_folder) if os.path.isfile(os.path.join(src_folder, f))]\n",
    "    random.shuffle(images)\n",
    "    \n",
    "    n = len(images)\n",
    "    n_train = int(n * train_ratio)\n",
    "    n_val = int(n * val_ratio)\n",
    "    \n",
    "    train_imgs = images[:n_train]\n",
    "    val_imgs = images[n_train:n_train + n_val]\n",
    "    test_imgs = images[n_train + n_val:]\n",
    "    \n",
    "    # Copy files to respective folders\n",
    "    for img_list, split in [(train_imgs, \"train\"), (val_imgs, \"val\"), (test_imgs, \"test\")]:\n",
    "        for fname in img_list:\n",
    "            src = os.path.join(src_folder, fname)\n",
    "            dst = os.path.join(output_dir, split, cls, fname)\n",
    "            shutil.copy(src, dst)\n",
    "\n",
    "print(\"✅ Dataset split into train/val/test successfully (70-15-15)!\")\n"
   ]
  },
  {
   "cell_type": "code",
   "execution_count": null,
   "id": "04732f23-a233-4679-98ae-6c9e75781752",
   "metadata": {
    "tags": []
   },
   "outputs": [],
   "source": [
    "\n"
   ]
  },
  {
   "cell_type": "code",
   "execution_count": null,
   "id": "07d672ea-dad2-43a9-8eff-5390be861c68",
   "metadata": {},
   "outputs": [],
   "source": []
  }
 ],
 "metadata": {
  "kernelspec": {
   "display_name": "Python 3 (ipykernel)",
   "language": "python",
   "name": "python3"
  },
  "language_info": {
   "codemirror_mode": {
    "name": "ipython",
    "version": 3
   },
   "file_extension": ".py",
   "mimetype": "text/x-python",
   "name": "python",
   "nbconvert_exporter": "python",
   "pygments_lexer": "ipython3",
   "version": "3.11.13"
  }
 },
 "nbformat": 4,
 "nbformat_minor": 5
}
