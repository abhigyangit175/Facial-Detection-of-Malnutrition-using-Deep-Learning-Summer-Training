{
 "cells": [
  {
   "cell_type": "code",
   "execution_count": null,
   "id": "a5d77cc7-a5de-4ca5-ac47-0c2f95583209",
   "metadata": {},
   "outputs": [],
   "source": [
    "import streamlit as st\n",
    "from tensorflow.keras.models import load_model\n",
    "from tensorflow.keras.preprocessing import image\n",
    "import numpy as np\n",
    "\n",
    "model = load_model('mobilenetv2_custom_final.keras')\n",
    "st.title(\"Image Classification Demo\")\n",
    "\n",
    "uploaded_file = st.file_uploader(\"Choose an image...\", type=[\"jpg\", \"jpeg\", \"png\"])\n",
    "\n",
    "if uploaded_file is not None:\n",
    "    img = image.load_img(uploaded_file, target_size=(224, 224))\n",
    "    st.image(img, caption='Uploaded Image', use_column_width=True)\n",
    "    img_array = image.img_to_array(img)\n",
    "    img_array = np.expand_dims(img_array, axis=0)\n",
    "    img_array = img_array / 255.0\n",
    "\n",
    "    prediction = model.predict(img_array)\n",
    "    st.write(f\"Prediction: {int(prediction[0][0] > 0.5)}\")\n",
    "    st.write(f\"Probability: {prediction[0][0]:.4f}\") "
   ]
  }
 ],
 "metadata": {
  "kernelspec": {
   "display_name": "Python 3 (ipykernel)",
   "language": "python",
   "name": "python3"
  },
  "language_info": {
   "codemirror_mode": {
    "name": "ipython",
    "version": 3
   },
   "file_extension": ".py",
   "mimetype": "text/x-python",
   "name": "python",
   "nbconvert_exporter": "python",
   "pygments_lexer": "ipython3",
   "version": "3.11.13"
  }
 },
 "nbformat": 4,
 "nbformat_minor": 5
}
